{
 "cells": [
  {
   "cell_type": "code",
   "execution_count": 1,
   "id": "78daa8da",
   "metadata": {},
   "outputs": [],
   "source": [
    "import pandas as pd\n",
    "import matplotlib.pyplot as plt"
   ]
  },
  {
   "cell_type": "code",
   "execution_count": 2,
   "id": "2384d5d2",
   "metadata": {},
   "outputs": [],
   "source": [
    "sbcovi_data = pd.read_csv('SBCA Covid data Inquiries-Combined.csv')"
   ]
  },
  {
   "cell_type": "code",
   "execution_count": 3,
   "id": "088f5c57",
   "metadata": {},
   "outputs": [
    {
     "data": {
      "text/html": [
       "<div>\n",
       "<style scoped>\n",
       "    .dataframe tbody tr th:only-of-type {\n",
       "        vertical-align: middle;\n",
       "    }\n",
       "\n",
       "    .dataframe tbody tr th {\n",
       "        vertical-align: top;\n",
       "    }\n",
       "\n",
       "    .dataframe thead th {\n",
       "        text-align: right;\n",
       "    }\n",
       "</style>\n",
       "<table border=\"1\" class=\"dataframe\">\n",
       "  <thead>\n",
       "    <tr style=\"text-align: right;\">\n",
       "      <th></th>\n",
       "      <th>Text</th>\n",
       "      <th>Labels</th>\n",
       "      <th>subcategory</th>\n",
       "      <th>Age</th>\n",
       "      <th>Sex</th>\n",
       "      <th>District</th>\n",
       "      <th>Sub-county</th>\n",
       "    </tr>\n",
       "  </thead>\n",
       "  <tbody>\n",
       "    <tr>\n",
       "      <th>0</th>\n",
       "      <td>Morning ministry of health .I AM A UGANDAN AND...</td>\n",
       "      <td>GHS/COVID</td>\n",
       "      <td>Where to access vaccination</td>\n",
       "      <td>22</td>\n",
       "      <td>NaN</td>\n",
       "      <td>NaN</td>\n",
       "      <td>NaN</td>\n",
       "    </tr>\n",
       "    <tr>\n",
       "      <th>1</th>\n",
       "      <td>where should i be vaccinated from am in Kitaga...</td>\n",
       "      <td>GHS/COVID</td>\n",
       "      <td>Where to access vaccination</td>\n",
       "      <td>21</td>\n",
       "      <td>M</td>\n",
       "      <td>Sheema</td>\n",
       "      <td>Kasaana</td>\n",
       "    </tr>\n",
       "    <tr>\n",
       "      <th>2</th>\n",
       "      <td>Where is the vaccination center for Bweyogerer...</td>\n",
       "      <td>GHS/COVID</td>\n",
       "      <td>Where to access vaccination</td>\n",
       "      <td>55</td>\n",
       "      <td>M</td>\n",
       "      <td>Wakiso</td>\n",
       "      <td>Bweyogerere Division</td>\n",
       "    </tr>\n",
       "    <tr>\n",
       "      <th>3</th>\n",
       "      <td>What next as far as vaccination is concerned?</td>\n",
       "      <td>GHS/COVID</td>\n",
       "      <td>Where to access vaccination</td>\n",
       "      <td>55</td>\n",
       "      <td>M</td>\n",
       "      <td>Wakiso</td>\n",
       "      <td>Bweyogerere Division</td>\n",
       "    </tr>\n",
       "    <tr>\n",
       "      <th>4</th>\n",
       "      <td>ernment brought in Johnson and Johnson vaccine...</td>\n",
       "      <td>GHS/COVID</td>\n",
       "      <td>Where to access vaccination</td>\n",
       "      <td>55</td>\n",
       "      <td>M</td>\n",
       "      <td>Wakiso</td>\n",
       "      <td>Bweyogerere Division</td>\n",
       "    </tr>\n",
       "  </tbody>\n",
       "</table>\n",
       "</div>"
      ],
      "text/plain": [
       "                                                Text     Labels  \\\n",
       "0  Morning ministry of health .I AM A UGANDAN AND...  GHS/COVID   \n",
       "1  where should i be vaccinated from am in Kitaga...  GHS/COVID   \n",
       "2  Where is the vaccination center for Bweyogerer...  GHS/COVID   \n",
       "3      What next as far as vaccination is concerned?  GHS/COVID   \n",
       "4  ernment brought in Johnson and Johnson vaccine...  GHS/COVID   \n",
       "\n",
       "                   subcategory Age  Sex District            Sub-county  \n",
       "0  Where to access vaccination  22  NaN      NaN                   NaN  \n",
       "1  Where to access vaccination  21    M  Sheema                Kasaana  \n",
       "2  Where to access vaccination  55    M   Wakiso  Bweyogerere Division  \n",
       "3  Where to access vaccination  55    M   Wakiso  Bweyogerere Division  \n",
       "4  Where to access vaccination  55    M   Wakiso  Bweyogerere Division  "
      ]
     },
     "execution_count": 3,
     "metadata": {},
     "output_type": "execute_result"
    }
   ],
   "source": [
    "sbcovi_data.head()"
   ]
  },
  {
   "cell_type": "code",
   "execution_count": 4,
   "id": "a29000c3",
   "metadata": {},
   "outputs": [
    {
     "data": {
      "text/plain": [
       "Index(['Text', 'Labels', 'subcategory', 'Age', 'Sex', 'District',\n",
       "       'Sub-county'],\n",
       "      dtype='object')"
      ]
     },
     "execution_count": 4,
     "metadata": {},
     "output_type": "execute_result"
    }
   ],
   "source": [
    "sbcovi_data.columns"
   ]
  },
  {
   "cell_type": "code",
   "execution_count": 5,
   "id": "3c217e4b",
   "metadata": {},
   "outputs": [],
   "source": [
    "sbcovi_data_dropped = sbcovi_data.drop(['Text', 'Labels', 'Age', 'Sex', 'Sub-county'], axis=1)"
   ]
  },
  {
   "cell_type": "code",
   "execution_count": 6,
   "id": "58e29aca",
   "metadata": {},
   "outputs": [
    {
     "data": {
      "text/html": [
       "<div>\n",
       "<style scoped>\n",
       "    .dataframe tbody tr th:only-of-type {\n",
       "        vertical-align: middle;\n",
       "    }\n",
       "\n",
       "    .dataframe tbody tr th {\n",
       "        vertical-align: top;\n",
       "    }\n",
       "\n",
       "    .dataframe thead th {\n",
       "        text-align: right;\n",
       "    }\n",
       "</style>\n",
       "<table border=\"1\" class=\"dataframe\">\n",
       "  <thead>\n",
       "    <tr style=\"text-align: right;\">\n",
       "      <th></th>\n",
       "      <th>subcategory</th>\n",
       "      <th>District</th>\n",
       "    </tr>\n",
       "  </thead>\n",
       "  <tbody>\n",
       "    <tr>\n",
       "      <th>0</th>\n",
       "      <td>Where to access vaccination</td>\n",
       "      <td>NaN</td>\n",
       "    </tr>\n",
       "    <tr>\n",
       "      <th>1</th>\n",
       "      <td>Where to access vaccination</td>\n",
       "      <td>Sheema</td>\n",
       "    </tr>\n",
       "  </tbody>\n",
       "</table>\n",
       "</div>"
      ],
      "text/plain": [
       "                   subcategory District\n",
       "0  Where to access vaccination      NaN\n",
       "1  Where to access vaccination  Sheema "
      ]
     },
     "execution_count": 6,
     "metadata": {},
     "output_type": "execute_result"
    }
   ],
   "source": [
    "sbcovi_data_dropped.head(2)"
   ]
  },
  {
   "cell_type": "code",
   "execution_count": 7,
   "id": "de01cac9",
   "metadata": {},
   "outputs": [],
   "source": [
    "subcategory_dis_df = sbcovi_data_dropped.dropna(axis='rows')"
   ]
  },
  {
   "cell_type": "code",
   "execution_count": 8,
   "id": "58395334",
   "metadata": {},
   "outputs": [
    {
     "data": {
      "text/html": [
       "<div>\n",
       "<style scoped>\n",
       "    .dataframe tbody tr th:only-of-type {\n",
       "        vertical-align: middle;\n",
       "    }\n",
       "\n",
       "    .dataframe tbody tr th {\n",
       "        vertical-align: top;\n",
       "    }\n",
       "\n",
       "    .dataframe thead th {\n",
       "        text-align: right;\n",
       "    }\n",
       "</style>\n",
       "<table border=\"1\" class=\"dataframe\">\n",
       "  <thead>\n",
       "    <tr style=\"text-align: right;\">\n",
       "      <th></th>\n",
       "      <th>subcategory</th>\n",
       "      <th>District</th>\n",
       "    </tr>\n",
       "  </thead>\n",
       "  <tbody>\n",
       "    <tr>\n",
       "      <th>1</th>\n",
       "      <td>Where to access vaccination</td>\n",
       "      <td>Sheema</td>\n",
       "    </tr>\n",
       "    <tr>\n",
       "      <th>2</th>\n",
       "      <td>Where to access vaccination</td>\n",
       "      <td>Wakiso</td>\n",
       "    </tr>\n",
       "  </tbody>\n",
       "</table>\n",
       "</div>"
      ],
      "text/plain": [
       "                   subcategory District\n",
       "1  Where to access vaccination  Sheema \n",
       "2  Where to access vaccination   Wakiso"
      ]
     },
     "execution_count": 8,
     "metadata": {},
     "output_type": "execute_result"
    }
   ],
   "source": [
    "subcategory_dis_df.head(2)"
   ]
  },
  {
   "cell_type": "code",
   "execution_count": 9,
   "id": "9b5483a5",
   "metadata": {},
   "outputs": [],
   "source": [
    "select_dis_df = subcategory_dis_df.loc[(subcategory_dis_df['District'] == 'Wakiso') | \n",
    "                                       (subcategory_dis_df['District'] == 'Lira') | \n",
    "                                       (subcategory_dis_df['District'] == 'Kampala') |\n",
    "                                       (subcategory_dis_df['District'] == 'Masaka') |\n",
    "                                       (subcategory_dis_df['District'] == 'Kabale') |\n",
    "                                       (subcategory_dis_df['District'] == 'Kabarole') |\n",
    "                                       (subcategory_dis_df['District'] == 'Bukedea') |\n",
    "                                       (subcategory_dis_df['District'] == 'Arua') |\n",
    "                                       (subcategory_dis_df['District'] == 'Mbale')               \n",
    "                                      ]"
   ]
  },
  {
   "cell_type": "code",
   "execution_count": 10,
   "id": "c87cd4b3",
   "metadata": {},
   "outputs": [
    {
     "data": {
      "text/html": [
       "<div>\n",
       "<style scoped>\n",
       "    .dataframe tbody tr th:only-of-type {\n",
       "        vertical-align: middle;\n",
       "    }\n",
       "\n",
       "    .dataframe tbody tr th {\n",
       "        vertical-align: top;\n",
       "    }\n",
       "\n",
       "    .dataframe thead th {\n",
       "        text-align: right;\n",
       "    }\n",
       "</style>\n",
       "<table border=\"1\" class=\"dataframe\">\n",
       "  <thead>\n",
       "    <tr style=\"text-align: right;\">\n",
       "      <th></th>\n",
       "      <th>subcategory</th>\n",
       "      <th>District</th>\n",
       "    </tr>\n",
       "  </thead>\n",
       "  <tbody>\n",
       "    <tr>\n",
       "      <th>2</th>\n",
       "      <td>Where to access vaccination</td>\n",
       "      <td>Wakiso</td>\n",
       "    </tr>\n",
       "    <tr>\n",
       "      <th>3</th>\n",
       "      <td>Where to access vaccination</td>\n",
       "      <td>Wakiso</td>\n",
       "    </tr>\n",
       "    <tr>\n",
       "      <th>4</th>\n",
       "      <td>Where to access vaccination</td>\n",
       "      <td>Wakiso</td>\n",
       "    </tr>\n",
       "    <tr>\n",
       "      <th>5</th>\n",
       "      <td>Where to access vaccination</td>\n",
       "      <td>Wakiso</td>\n",
       "    </tr>\n",
       "    <tr>\n",
       "      <th>6</th>\n",
       "      <td>Where to access vaccination</td>\n",
       "      <td>Lira</td>\n",
       "    </tr>\n",
       "  </tbody>\n",
       "</table>\n",
       "</div>"
      ],
      "text/plain": [
       "                   subcategory District\n",
       "2  Where to access vaccination   Wakiso\n",
       "3  Where to access vaccination   Wakiso\n",
       "4  Where to access vaccination   Wakiso\n",
       "5  Where to access vaccination   Wakiso\n",
       "6  Where to access vaccination     Lira"
      ]
     },
     "execution_count": 10,
     "metadata": {},
     "output_type": "execute_result"
    }
   ],
   "source": [
    "select_dis_df.head()"
   ]
  },
  {
   "cell_type": "code",
   "execution_count": 11,
   "id": "6e0e2a90",
   "metadata": {},
   "outputs": [
    {
     "data": {
      "text/html": [
       "<div>\n",
       "<style scoped>\n",
       "    .dataframe tbody tr th:only-of-type {\n",
       "        vertical-align: middle;\n",
       "    }\n",
       "\n",
       "    .dataframe tbody tr th {\n",
       "        vertical-align: top;\n",
       "    }\n",
       "\n",
       "    .dataframe thead th {\n",
       "        text-align: right;\n",
       "    }\n",
       "</style>\n",
       "<table border=\"1\" class=\"dataframe\">\n",
       "  <thead>\n",
       "    <tr style=\"text-align: right;\">\n",
       "      <th>subcategory</th>\n",
       "      <th>AEFI</th>\n",
       "      <th>Case reporting</th>\n",
       "      <th>Information on prevention measures</th>\n",
       "      <th>Knowledge (signs, causes)</th>\n",
       "      <th>Medical care (testing and treatment)</th>\n",
       "      <th>Myths/misinformation</th>\n",
       "      <th>Request for COVID-19 Stats</th>\n",
       "      <th>Where to access vaccination</th>\n",
       "    </tr>\n",
       "    <tr>\n",
       "      <th>District</th>\n",
       "      <th></th>\n",
       "      <th></th>\n",
       "      <th></th>\n",
       "      <th></th>\n",
       "      <th></th>\n",
       "      <th></th>\n",
       "      <th></th>\n",
       "      <th></th>\n",
       "    </tr>\n",
       "  </thead>\n",
       "  <tbody>\n",
       "    <tr>\n",
       "      <th>Arua</th>\n",
       "      <td>NaN</td>\n",
       "      <td>NaN</td>\n",
       "      <td>NaN</td>\n",
       "      <td>3.0</td>\n",
       "      <td>NaN</td>\n",
       "      <td>NaN</td>\n",
       "      <td>NaN</td>\n",
       "      <td>2.0</td>\n",
       "    </tr>\n",
       "    <tr>\n",
       "      <th>Bukedea</th>\n",
       "      <td>NaN</td>\n",
       "      <td>NaN</td>\n",
       "      <td>NaN</td>\n",
       "      <td>NaN</td>\n",
       "      <td>NaN</td>\n",
       "      <td>NaN</td>\n",
       "      <td>NaN</td>\n",
       "      <td>3.0</td>\n",
       "    </tr>\n",
       "    <tr>\n",
       "      <th>Kabale</th>\n",
       "      <td>NaN</td>\n",
       "      <td>NaN</td>\n",
       "      <td>NaN</td>\n",
       "      <td>1.0</td>\n",
       "      <td>NaN</td>\n",
       "      <td>NaN</td>\n",
       "      <td>NaN</td>\n",
       "      <td>4.0</td>\n",
       "    </tr>\n",
       "    <tr>\n",
       "      <th>Kabarole</th>\n",
       "      <td>NaN</td>\n",
       "      <td>NaN</td>\n",
       "      <td>NaN</td>\n",
       "      <td>NaN</td>\n",
       "      <td>NaN</td>\n",
       "      <td>NaN</td>\n",
       "      <td>1.0</td>\n",
       "      <td>1.0</td>\n",
       "    </tr>\n",
       "    <tr>\n",
       "      <th>Kampala</th>\n",
       "      <td>NaN</td>\n",
       "      <td>NaN</td>\n",
       "      <td>2.0</td>\n",
       "      <td>2.0</td>\n",
       "      <td>NaN</td>\n",
       "      <td>NaN</td>\n",
       "      <td>2.0</td>\n",
       "      <td>7.0</td>\n",
       "    </tr>\n",
       "  </tbody>\n",
       "</table>\n",
       "</div>"
      ],
      "text/plain": [
       "subcategory  AEFI  Case reporting  Information on prevention measures  \\\n",
       "District                                                                \n",
       "Arua          NaN             NaN                                 NaN   \n",
       "Bukedea       NaN             NaN                                 NaN   \n",
       "Kabale        NaN             NaN                                 NaN   \n",
       "Kabarole      NaN             NaN                                 NaN   \n",
       "Kampala       NaN             NaN                                 2.0   \n",
       "\n",
       "subcategory  Knowledge (signs, causes)  Medical care (testing and treatment)  \\\n",
       "District                                                                       \n",
       "Arua                               3.0                                   NaN   \n",
       "Bukedea                            NaN                                   NaN   \n",
       "Kabale                             1.0                                   NaN   \n",
       "Kabarole                           NaN                                   NaN   \n",
       "Kampala                            2.0                                   NaN   \n",
       "\n",
       "subcategory  Myths/misinformation  Request for COVID-19 Stats  \\\n",
       "District                                                        \n",
       "Arua                          NaN                         NaN   \n",
       "Bukedea                       NaN                         NaN   \n",
       "Kabale                        NaN                         NaN   \n",
       "Kabarole                      NaN                         1.0   \n",
       "Kampala                       NaN                         2.0   \n",
       "\n",
       "subcategory  Where to access vaccination  \n",
       "District                                  \n",
       "Arua                                 2.0  \n",
       "Bukedea                              3.0  \n",
       "Kabale                               4.0  \n",
       "Kabarole                             1.0  \n",
       "Kampala                              7.0  "
      ]
     },
     "execution_count": 11,
     "metadata": {},
     "output_type": "execute_result"
    }
   ],
   "source": [
    "grouped_df = select_dis_df.groupby(['District','subcategory']).size().unstack()\n",
    "grouped_df.head()"
   ]
  },
  {
   "cell_type": "code",
   "execution_count": null,
   "id": "e58c6e62",
   "metadata": {},
   "outputs": [],
   "source": [
    "# select_dis_df.groupby(['District','subcategory']).size().unstack().plot.bar(stacked=True)"
   ]
  },
  {
   "cell_type": "code",
   "execution_count": 16,
   "id": "18eb9e99",
   "metadata": {},
   "outputs": [
    {
     "data": {
      "text/plain": [
       "<AxesSubplot:xlabel='District'>"
      ]
     },
     "execution_count": 16,
     "metadata": {},
     "output_type": "execute_result"
    },
    {
     "data": {
      "image/png": "[encoded data removed]",
      "text/plain": [
       "<Figure size 1152x720 with 1 Axes>"
      ]
     },
     "metadata": {
      "needs_background": "light"
     },
     "output_type": "display_data"
    }
   ],
   "source": [
    "# fig, ax = plt.subplots(figsize=(18,5))\n",
    "grouped_df.plot.bar(stacked=True, figsize=(16,10))"
   ]
  },
  {
   "cell_type": "code",
   "execution_count": null,
   "id": "112d33ed",
   "metadata": {},
   "outputs": [],
   "source": [
    "# subcategory_dis_df['District'].unique()"
   ]
  },
  {
   "cell_type": "code",
   "execution_count": null,
   "id": "74119f77",
   "metadata": {},
   "outputs": [],
   "source": [
    "subcategory_dis_df.head(2)"
   ]
  },
  {
   "cell_type": "code",
   "execution_count": null,
   "id": "a6e25e06",
   "metadata": {},
   "outputs": [],
   "source": [
    "subcategory_dis_df = sbcovi_data.drop(['Text', 'Labels', 'Age', 'Sex', 'Sub-county'], axis=1)"
   ]
  },
  {
   "cell_type": "code",
   "execution_count": null,
   "id": "4d9aee95",
   "metadata": {},
   "outputs": [],
   "source": [
    "subcategory_dis_df.head(2)"
   ]
  },
  {
   "cell_type": "code",
   "execution_count": null,
   "id": "087feada",
   "metadata": {},
   "outputs": [],
   "source": [
    "subcategory_dis_df['subcategory'].unique()"
   ]
  },
  {
   "cell_type": "code",
   "execution_count": null,
   "id": "82f70244",
   "metadata": {},
   "outputs": [],
   "source": [
    "only_subs_df = subcategory_dis_df.groupby('subcategory').sum()\n",
    "only_subs_df"
   ]
  },
  {
   "cell_type": "code",
   "execution_count": null,
   "id": "68fb1be8",
   "metadata": {},
   "outputs": [],
   "source": []
  },
  {
   "cell_type": "code",
   "execution_count": null,
   "id": "f2872e7f",
   "metadata": {},
   "outputs": [],
   "source": []
  },
  {
   "cell_type": "code",
   "execution_count": null,
   "id": "47c0bac8",
   "metadata": {},
   "outputs": [],
   "source": []
  },
  {
   "cell_type": "code",
   "execution_count": null,
   "id": "15610b7b",
   "metadata": {},
   "outputs": [],
   "source": [
    "select_dis_df"
   ]
  },
  {
   "cell_type": "code",
   "execution_count": null,
   "id": "59f709a4",
   "metadata": {},
   "outputs": [],
   "source": [
    "wak = select_dis_df['District'] == \"Wakiso\"\n",
    "wak"
   ]
  },
  {
   "cell_type": "code",
   "execution_count": null,
   "id": "e0281283",
   "metadata": {},
   "outputs": [],
   "source": [
    "district_count_df = select_dis_df.groupby('District').count()\n",
    "district_count_df"
   ]
  },
  {
   "cell_type": "code",
   "execution_count": null,
   "id": "4603d1e2",
   "metadata": {},
   "outputs": [],
   "source": [
    "Where to access vaccination = []"
   ]
  },
  {
   "cell_type": "code",
   "execution_count": null,
   "id": "d1734825",
   "metadata": {},
   "outputs": [],
   "source": [
    "labels = district_count_df.index"
   ]
  },
  {
   "cell_type": "code",
   "execution_count": null,
   "id": "00d72173",
   "metadata": {},
   "outputs": [],
   "source": [
    "labels"
   ]
  },
  {
   "cell_type": "code",
   "execution_count": null,
   "id": "3eb01335",
   "metadata": {},
   "outputs": [],
   "source": [
    "# labels = select_dis_df['District'].unique()\n",
    "# cats = select_dis_df['subcategory']\n",
    "only_subs_df.plot(x = only_subs_df, kind='bar', stacked=True)\n",
    "plt.show()"
   ]
  },
  {
   "cell_type": "code",
   "execution_count": null,
   "id": "56b7767f",
   "metadata": {},
   "outputs": [],
   "source": []
  }
 ],
 "metadata": {
  "kernelspec": {
   "display_name": "Python 3 (ipykernel)",
   "language": "python",
   "name": "python3"
  },
  "language_info": {
   "codemirror_mode": {
    "name": "ipython",
    "version": 3
   },
   "file_extension": ".py",
   "mimetype": "text/x-python",
   "name": "python",
   "nbconvert_exporter": "python",
   "pygments_lexer": "ipython3",
   "version": "3.8.10"
  }
 },
 "nbformat": 4,
 "nbformat_minor": 5
}
